{
  "nbformat": 4,
  "nbformat_minor": 0,
  "metadata": {
    "colab": {
      "provenance": []
    },
    "kernelspec": {
      "name": "python3",
      "display_name": "Python 3"
    },
    "language_info": {
      "name": "python"
    }
  },
  "cells": [
    {
      "cell_type": "markdown",
      "source": [
        "Q1, Create a vehicle class with an init method having instance variables as name_of_vehicle, max_speed\n",
        "and average_of_vehicle."
      ],
      "metadata": {
        "id": "Nk0UchYrSLsQ"
      }
    },
    {
      "cell_type": "code",
      "execution_count": 22,
      "metadata": {
        "id": "GU6sU_EWSCc5"
      },
      "outputs": [],
      "source": [
        "class vehicle: #class name vehical\n",
        "\n",
        "    def __init__(self,name_of_vehicle,max_speed,average_of_vehicle):\n",
        "        self.name_of_vehicle = name_of_vehicle\n",
        "        self.max_speed = max_speed\n",
        "        self.average_of_vehicle = average_of_vehicle\n",
        ""
      ]
    },
    {
      "cell_type": "code",
      "source": [
        "car1 = vehicle(\"maruti\",120,50)"
      ],
      "metadata": {
        "id": "XR9bqz2oSVpd"
      },
      "execution_count": 23,
      "outputs": []
    },
    {
      "cell_type": "code",
      "source": [
        "car1.max_speed"
      ],
      "metadata": {
        "colab": {
          "base_uri": "https://localhost:8080/"
        },
        "id": "XI8jp6mySi2m",
        "outputId": "a1e1ae97-b395-4b23-e026-37c80d7187a1"
      },
      "execution_count": 24,
      "outputs": [
        {
          "output_type": "execute_result",
          "data": {
            "text/plain": [
              "120"
            ]
          },
          "metadata": {},
          "execution_count": 24
        }
      ]
    },
    {
      "cell_type": "markdown",
      "source": [
        "Q2. Create a child class car from the vehicle class created in Que 1, which will inherit the vehicle class.\n",
        "Create a method named seating_capacity which takes capacity as an argument and returns the name of\n",
        "the vehicle and its seating capacity."
      ],
      "metadata": {
        "id": "QrmXNYBgTT9R"
      }
    },
    {
      "cell_type": "code",
      "source": [
        "class car(vehicle): #child class of vehicle\n",
        "\n",
        "  def seating_capacity(self, capacity): #capacity aurgument\n",
        "\n",
        "    return self.name_of_vehicle + \" has a seating capacity of \" + str(capacity)"
      ],
      "metadata": {
        "id": "1Mp0i0cjSnmx"
      },
      "execution_count": 25,
      "outputs": []
    },
    {
      "cell_type": "code",
      "source": [
        "car2 = car(\"swift\",120,80)"
      ],
      "metadata": {
        "id": "O5Gr3nUrT49g"
      },
      "execution_count": 27,
      "outputs": []
    },
    {
      "cell_type": "code",
      "source": [
        "car2.seating_capacity(5)"
      ],
      "metadata": {
        "colab": {
          "base_uri": "https://localhost:8080/",
          "height": 36
        },
        "id": "bNPzctiwVSh1",
        "outputId": "d94e30a2-28e8-40e2-d610-b056bcc1434e"
      },
      "execution_count": 29,
      "outputs": [
        {
          "output_type": "execute_result",
          "data": {
            "text/plain": [
              "'swift has a seating capacity of 5'"
            ],
            "application/vnd.google.colaboratory.intrinsic+json": {
              "type": "string"
            }
          },
          "metadata": {},
          "execution_count": 29
        }
      ]
    },
    {
      "cell_type": "markdown",
      "source": [
        "Q3. What is multiple inheritance? Write a python code to demonstrate multiple inheritance."
      ],
      "metadata": {
        "id": "hCJBR7r2VhkW"
      }
    },
    {
      "cell_type": "code",
      "source": [
        "# multiple inheritance is the feature of OOPs that allows sub class two inherit from more than one parent class.\n",
        "# for example the child inherits properties from both father and mother."
      ],
      "metadata": {
        "id": "YxIt_QrDVaLK"
      },
      "execution_count": 31,
      "outputs": []
    },
    {
      "cell_type": "code",
      "source": [
        "class fruits:  #class_1\n",
        "\n",
        "  def fruits_name(self):\n",
        "    return \"Mango,Apple,Banana,Watermelon.\""
      ],
      "metadata": {
        "id": "WCwrQBm8WQgO"
      },
      "execution_count": 32,
      "outputs": []
    },
    {
      "cell_type": "code",
      "source": [
        "class seasons: #class_2\n",
        "\n",
        "  def season_name(self):\n",
        "    return \"Summer, Winter, Rainy , Autum , Spring.\"\n"
      ],
      "metadata": {
        "id": "493djQCwWw3W"
      },
      "execution_count": 33,
      "outputs": []
    },
    {
      "cell_type": "code",
      "source": [
        "class juice(fruits,seasons): #class_3 that inherits from class1 and class2\n",
        "  pass"
      ],
      "metadata": {
        "id": "c4p1LNF_W_aw"
      },
      "execution_count": 34,
      "outputs": []
    },
    {
      "cell_type": "code",
      "source": [
        "Glass = juice() #object of class3"
      ],
      "metadata": {
        "id": "qr70__CVXG_n"
      },
      "execution_count": 35,
      "outputs": []
    },
    {
      "cell_type": "code",
      "source": [
        "Glass.fruits_name()"
      ],
      "metadata": {
        "colab": {
          "base_uri": "https://localhost:8080/",
          "height": 36
        },
        "id": "VXwh3FQ6XLz6",
        "outputId": "227d3f38-2069-4cca-f9b3-191712b4fca4"
      },
      "execution_count": 37,
      "outputs": [
        {
          "output_type": "execute_result",
          "data": {
            "text/plain": [
              "'Mango,Apple,Banana,Watermelon.'"
            ],
            "application/vnd.google.colaboratory.intrinsic+json": {
              "type": "string"
            }
          },
          "metadata": {},
          "execution_count": 37
        }
      ]
    },
    {
      "cell_type": "code",
      "source": [
        "Glass.season_name()"
      ],
      "metadata": {
        "colab": {
          "base_uri": "https://localhost:8080/",
          "height": 36
        },
        "id": "4QJL-JU5XOYm",
        "outputId": "b07958c0-f81d-4161-9131-effe47e158bb"
      },
      "execution_count": 38,
      "outputs": [
        {
          "output_type": "execute_result",
          "data": {
            "text/plain": [
              "'Summer, Winter, Rainy , Autum , Spring.'"
            ],
            "application/vnd.google.colaboratory.intrinsic+json": {
              "type": "string"
            }
          },
          "metadata": {},
          "execution_count": 38
        }
      ]
    },
    {
      "cell_type": "markdown",
      "source": [
        "Q4. What are getter and setter in python? Create a class and create a getter and a setter method in this\n",
        "class."
      ],
      "metadata": {
        "id": "-kfs9A4cYGt_"
      }
    },
    {
      "cell_type": "markdown",
      "source": [
        "\n",
        "Ans:\n",
        "\n",
        "getters and setters are methods that allow us to get and set the values of attributes in a class. They provide a way to control access to the attributes and can be used to enforce validation or perform additional actions when getting or setting values.\n",
        "\n"
      ],
      "metadata": {
        "id": "FuyA_Sa7ZCLj"
      }
    },
    {
      "cell_type": "code",
      "source": [
        "class person:\n",
        "\n",
        "  def __init__(self,name, age):\n",
        "    self.__name = name\n",
        "    self.__age = age\n",
        "\n",
        "  def get_age(self):\n",
        "    return self.__age\n",
        "\n",
        "  def set_age(self,new_age):\n",
        "    if new_age < 0:\n",
        "      print(\"Warning: Age cannot be Negative. Setting Age to 0\")\n",
        "      self.__age = 0\n",
        "\n",
        "    else:\n",
        "      self.__age = new_age"
      ],
      "metadata": {
        "id": "-XwoCb7WXSVR"
      },
      "execution_count": 54,
      "outputs": []
    },
    {
      "cell_type": "code",
      "source": [
        "person1 = person(\"Anuj\",21) #object"
      ],
      "metadata": {
        "id": "wDojuwJ5bBw4"
      },
      "execution_count": 48,
      "outputs": []
    },
    {
      "cell_type": "code",
      "source": [
        "current_age = person1.get_age()  #Getter  method\n",
        "print(current_age)"
      ],
      "metadata": {
        "colab": {
          "base_uri": "https://localhost:8080/"
        },
        "id": "ztXQFe1MbG_L",
        "outputId": "932e52f5-9ca7-465d-dcd8-122e8427d364"
      },
      "execution_count": 49,
      "outputs": [
        {
          "output_type": "stream",
          "name": "stdout",
          "text": [
            "21\n"
          ]
        }
      ]
    },
    {
      "cell_type": "code",
      "source": [
        "person1.set_age(18) #setter method\n",
        "new_age = person1.get_age()\n",
        "print(new_age)"
      ],
      "metadata": {
        "colab": {
          "base_uri": "https://localhost:8080/"
        },
        "id": "20XrJdYebJ9R",
        "outputId": "f87c6879-d1dd-4f5f-8109-1725a668b0f1"
      },
      "execution_count": 52,
      "outputs": [
        {
          "output_type": "stream",
          "name": "stdout",
          "text": [
            "18\n"
          ]
        }
      ]
    },
    {
      "cell_type": "code",
      "source": [
        "person1.set_age(-10) # Neagative age condition.\n",
        "new_age_negative = person1.get_age()\n",
        "print(new_age_negative)"
      ],
      "metadata": {
        "colab": {
          "base_uri": "https://localhost:8080/"
        },
        "id": "9Kko6EUecCiu",
        "outputId": "95cba335-aeb0-4e27-8e05-a78a2fcf223c"
      },
      "execution_count": 53,
      "outputs": [
        {
          "output_type": "stream",
          "name": "stdout",
          "text": [
            "Warning: Age cannot be Negative. Setting Age to 0\n",
            "0\n"
          ]
        }
      ]
    },
    {
      "cell_type": "markdown",
      "source": [
        "Q5.What is method overriding in python? Write a python code to demonstrate method overriding."
      ],
      "metadata": {
        "id": "cOZFGKFdcuO-"
      }
    },
    {
      "cell_type": "markdown",
      "source": [
        "Ans:\n",
        "\n",
        "Method overriding in Python is when a child class defines a method with the same name as a method in its parent class, providing its own implementation. This allows the child class to customize or extend the behavior of the inherited method.\n"
      ],
      "metadata": {
        "id": "N-KbYEtheM1h"
      }
    },
    {
      "cell_type": "code",
      "source": [
        "class shape: #superclass\n",
        "\n",
        "  def area(self):\n",
        "    return \"calculating area of shapes\"\n",
        "\n",
        "class circle(shape): #subclass for circle\n",
        "\n",
        "  def __init__(self,radius):\n",
        "    self.radius = radius\n",
        "\n",
        "  def area(self):\n",
        "    return 3.14 * self.radius * self.radius\n",
        "\n",
        "class rectangle(shape): #subclass for rectangle\n",
        "\n",
        "  def __init__(self,length, width):\n",
        "    self.length = length\n",
        "    self.width = width\n",
        "\n",
        "  def area(self):\n",
        "    return self.length * self.width\n",
        "\n"
      ],
      "metadata": {
        "id": "Mop1gh_BckII"
      },
      "execution_count": 58,
      "outputs": []
    },
    {
      "cell_type": "code",
      "source": [
        "common_shape = shape()\n",
        "common_shape.area()"
      ],
      "metadata": {
        "colab": {
          "base_uri": "https://localhost:8080/",
          "height": 36
        },
        "id": "k-672XobfFJS",
        "outputId": "1a9ac931-0837-445e-ccba-4d4411b1618d"
      },
      "execution_count": 59,
      "outputs": [
        {
          "output_type": "execute_result",
          "data": {
            "text/plain": [
              "'calculating area of shapes'"
            ],
            "application/vnd.google.colaboratory.intrinsic+json": {
              "type": "string"
            }
          },
          "metadata": {},
          "execution_count": 59
        }
      ]
    },
    {
      "cell_type": "code",
      "source": [
        "circle1 = circle(10)\n",
        "circle1.area()"
      ],
      "metadata": {
        "colab": {
          "base_uri": "https://localhost:8080/"
        },
        "id": "-Jo6qOx5f9xO",
        "outputId": "565c68ab-4ced-4081-fc37-1896b1b33deb"
      },
      "execution_count": 60,
      "outputs": [
        {
          "output_type": "execute_result",
          "data": {
            "text/plain": [
              "314.0"
            ]
          },
          "metadata": {},
          "execution_count": 60
        }
      ]
    },
    {
      "cell_type": "code",
      "source": [
        "rec = rectangle(5,8)\n",
        "rec.area()"
      ],
      "metadata": {
        "colab": {
          "base_uri": "https://localhost:8080/"
        },
        "id": "OnD8Z3fwhCim",
        "outputId": "2a9015ee-3e28-40c2-c9d2-059b58b66b16"
      },
      "execution_count": 61,
      "outputs": [
        {
          "output_type": "execute_result",
          "data": {
            "text/plain": [
              "40"
            ]
          },
          "metadata": {},
          "execution_count": 61
        }
      ]
    },
    {
      "cell_type": "code",
      "source": [],
      "metadata": {
        "id": "dBi_JnsxisFZ"
      },
      "execution_count": null,
      "outputs": []
    }
  ]
}